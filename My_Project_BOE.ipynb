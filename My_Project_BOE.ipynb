{
 "cells": [
  {
   "cell_type": "markdown",
   "id": "3aa58b3c-a2c5-46da-9bc8-27993700fe06",
   "metadata": {},
   "source": [
    "#My project BOE\n"
   ]
  },
  {
   "cell_type": "markdown",
   "id": "ed5054a0-81d7-4f59-92e1-33b374db6112",
   "metadata": {},
   "source": [
    "#In this notebook, Data Science Tools and Ecosystem are summarized."
   ]
  },
  {
   "cell_type": "markdown",
   "id": "44dad67f-6c96-48a7-a1cf-86b71162d690",
   "metadata": {
    "tags": []
   },
   "source": [
    "**Objectives:**\n",
    "\n",
    "- List popular languages for Data Science.\n",
    "- Explore data visualization techniques.\n",
    "- Understand basic machine learning concepts.\n",
    "- Discuss best practices for data cleaning and preprocessing.\n",
    "\n"
   ]
  },
  {
   "cell_type": "markdown",
   "id": "3891b623-8373-45c7-84f8-87445184efd2",
   "metadata": {},
   "source": [
    "#Some of the popular languages that Data Scientists use are:\n",
    "    ordered list\n",
    "    1.SQL\n",
    "    2.R\n",
    "    3.Phyton"
   ]
  },
  {
   "cell_type": "markdown",
   "id": "9b85b910-4b44-4a71-ac3d-9f5592d48455",
   "metadata": {},
   "source": [
    "#Some of the commonly used libraries used by Data Scientists include:\n",
    "## Data Science Libraries\n",
    "\n",
    "Below are some commonly used data science libraries in Python:\n",
    "\n",
    "1. NumPy: A fundamental library for numerical computing in Python. It provides support for large, multi-dimensional arrays and matrices, along with an extensive collection of high-level mathematical functions.\n",
    "\n",
    "2. Pandas: A powerful library for data manipulation and analysis. It offers data structures like DataFrame and Series that enable efficient data handling and cleaning.\n",
    "\n",
    "3. Matplotlib: A widely-used library for creating static, interactive, and animated visualizations in Python.\n",
    "\n",
    "4. Seaborn: Built on top of Matplotlib, Seaborn is used for creating attractive and informative statistical graphics.\n",
    "\n",
    "5. SciPy: An open-source library for mathematics, science, and engineering. It provides a collection of numerical algorithms and functions for optimization, integration, interpolation, and more.\n",
    "\n",
    "\n",
    "\n"
   ]
  },
  {
   "cell_type": "markdown",
   "id": "940182a9-8ef2-477a-8e00-e5790fb150ba",
   "metadata": {},
   "source": [
    "# Data Science Tools\n",
    "\n",
    "| Tool         | Description                                           | Website                           |\n",
    "|--------------|-------------------------------------------------------|-----------------------------------|\n",
    "| Python       | A popular programming language for data analysis    | https://www.python.org/           |\n",
    "| R            | A statistical programming language                   | https://www.r-project.org/        |\n",
    "| Jupyter      | Interactive computing environment for data science   | https://jupyter.org/              |\n",
    "| NumPy        | Library for numerical computing with Python          | https://numpy.org/                |\n",
    "| Pandas       | Data manipulation and analysis library in Python     | https://pandas.pydata.org/        |\n",
    "| Scikit-learn | Machine learning library for Python                  | https://scikit-learn.org/         |\n",
    "| TensorFlow   | Open-source deep learning library by Google          | https://www.tensorflow.org/       |\n",
    "| Keras        | High-level neural networks API for TensorFlow        | https://keras.io/                |\n",
    "| PyTorch      | Deep learning framework by Facebook                  | https://pytorch.org/              |\n",
    "| Matplotlib   | Data visualization library in Python                  | https://matplotlib.org/           |\n",
    "| Seaborn      | Statistical data visualization library based on Matplotlib | https://seaborn.pydata.org/  |\n",
    "| Plotly       | Interactive data visualization library                | https://plotly.com/              |\n",
    "| Tableau      | Data visualization and business intelligence tool     | https://www.tableau.com/          |\n",
    "| Excel        | Spreadsheet software by Microsoft                     | https://www.microsoft.com/en-us/microsoft-365/excel |\n",
    "\n",
    "\n",
    "\n"
   ]
  },
  {
   "cell_type": "markdown",
   "id": "d2afe5b4-60ea-4e7b-8fee-451b9629dc80",
   "metadata": {},
   "source": [
    "| Data Science Tools |\n",
    "|:------------------:|\n",
    "|   Jupyter Notebook |\n",
    "|     RStudio        |\n",
    "|     VSCode         |\n"
   ]
  },
  {
   "cell_type": "markdown",
   "id": "fe607917-b374-4157-91ef-9a9b43fe04ee",
   "metadata": {},
   "source": [
    "# Arithmetic operations\n",
    "code = compile(\"5 + 4\", \"<string>\", \"eval\")\n",
    "eval(code)\n",
    "# Result: 9"
   ]
  },
  {
   "cell_type": "code",
   "execution_count": 1,
   "id": "2a1d4a27-3308-4a0d-9dca-79d0f9e577f2",
   "metadata": {
    "tags": []
   },
   "outputs": [
    {
     "data": {
      "text/plain": [
       "17"
      ]
     },
     "execution_count": 1,
     "metadata": {},
     "output_type": "execute_result"
    }
   ],
   "source": [
    "(3*4)+5\n",
    "# Result: 17"
   ]
  },
  {
   "cell_type": "code",
   "execution_count": 2,
   "id": "a695195a-a215-42be-87e6-ebd059a005ed",
   "metadata": {
    "tags": []
   },
   "outputs": [
    {
     "name": "stdout",
     "output_type": "stream",
     "text": [
      "0 days, 3.3333333333333335 hours, 0 mins. \n"
     ]
    }
   ],
   "source": [
    "days = 0\n",
    "hours = 0\n",
    "mins = 0\n",
    "\n",
    "time = 200\n",
    "#days = time / 1440\n",
    "leftover_minutes = time % 1440\n",
    "hours = leftover_minutes / 60\n",
    "#mins = time - (days*1440) - (hours*60)\n",
    "print(str(days) + \" days, \" + str(hours) + \" hours, \" + str(mins) +  \" mins. \")\n",
    "\n",
    "# Result: 3.3333333333333335 hours"
   ]
  },
  {
   "cell_type": "markdown",
   "id": "f0b4e3d6-05a3-4472-bb72-38b80a9ec95d",
   "metadata": {},
   "source": [
    "## Author\n",
    "Berkay Orkun ERKILINÇ"
   ]
  },
  {
   "cell_type": "code",
   "execution_count": null,
   "id": "5a06cf0d-fe5d-4316-bb7d-9e278b5019c1",
   "metadata": {},
   "outputs": [],
   "source": []
  }
 ],
 "metadata": {
  "kernelspec": {
   "display_name": "Python",
   "language": "python",
   "name": "conda-env-python-py"
  },
  "language_info": {
   "codemirror_mode": {
    "name": "ipython",
    "version": 3
   },
   "file_extension": ".py",
   "mimetype": "text/x-python",
   "name": "python",
   "nbconvert_exporter": "python",
   "pygments_lexer": "ipython3",
   "version": "3.7.12"
  }
 },
 "nbformat": 4,
 "nbformat_minor": 5
}
